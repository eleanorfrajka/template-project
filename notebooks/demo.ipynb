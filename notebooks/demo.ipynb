{
 "cells": [
  {
   "cell_type": "markdown",
   "id": "c6a29764-f39c-431c-8e77-fbc6bfe20f01",
   "metadata": {},
   "source": [
    "# template-project demo\n",
    "\n",
    "The purpose of this notebook is to demonstrate the functionality of `template-project`.\n",
    "\n",
    "The demo is organised to show\n",
    "\n",
    "- Step 1: Explanation\n",
    "\n",
    "- Step 2: Explanation\n",
    "\n",
    "Note that when you submit a pull request, you should `clear all outputs` from your python notebook for a cleaner merge.\n"
   ]
  },
  {
   "cell_type": "code",
   "execution_count": null,
   "id": "6a1920f3",
   "metadata": {},
   "outputs": [],
   "source": [
    "from pathlib import Path\n",
    "\n",
    "from template_project import plotters, readers, tools, utilities, writers\n"
   ]
  },
  {
   "cell_type": "code",
   "execution_count": null,
   "id": "f6051cc7",
   "metadata": {},
   "outputs": [],
   "source": [
    "ds = readers.load_sample_dataset()"
   ]
  },
  {
   "cell_type": "code",
   "execution_count": null,
   "id": "210d69fb",
   "metadata": {},
   "outputs": [],
   "source": [
    "plotters.plot_monthly_transport(ds)"
   ]
  },
  {
   "cell_type": "code",
   "execution_count": null,
   "id": "087bdd98",
   "metadata": {},
   "outputs": [],
   "source": [
    "path = Path.cwd().parent / \"data\" / \"temp.nc\"\n",
    "writers.save_dataset(ds, output_file=path, prompt_user=True)"
   ]
  }
 ],
 "metadata": {
  "kernelspec": {
   "display_name": "venv",
   "language": "python",
   "name": "python3"
  },
  "language_info": {
   "codemirror_mode": {
    "name": "ipython",
    "version": 3
   },
   "file_extension": ".py",
   "mimetype": "text/x-python",
   "name": "python",
   "nbconvert_exporter": "python",
   "pygments_lexer": "ipython3",
   "version": "3.11.7"
  }
 },
 "nbformat": 4,
 "nbformat_minor": 5
}
